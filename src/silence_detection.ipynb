{
  "nbformat": 4,
  "nbformat_minor": 0,
  "metadata": {
    "colab": {
      "name": "silence_detection.ipynb",
      "provenance": []
    },
    "kernelspec": {
      "name": "python3",
      "display_name": "Python 3"
    },
    "language_info": {
      "name": "python"
    }
  },
  "cells": [
    {
      "cell_type": "code",
      "execution_count": 20,
      "metadata": {
        "colab": {
          "base_uri": "https://localhost:8080/"
        },
        "id": "dOCJNvs8akMV",
        "outputId": "c0b496da-9d07-4615-eb76-66b9f94272ee"
      },
      "outputs": [
        {
          "output_type": "stream",
          "name": "stdout",
          "text": [
            "Looking in indexes: https://pypi.org/simple, https://us-python.pkg.dev/colab-wheels/public/simple/\n",
            "Requirement already satisfied: ffmpeg in /usr/local/lib/python3.7/dist-packages (1.4)\n",
            "Requirement already satisfied: moviepy in /usr/local/lib/python3.7/dist-packages (0.2.3.5)\n",
            "Requirement already satisfied: imageio<3.0,>=2.1.2 in /usr/local/lib/python3.7/dist-packages (from moviepy) (2.4.1)\n",
            "Requirement already satisfied: decorator<5.0,>=4.0.2 in /usr/local/lib/python3.7/dist-packages (from moviepy) (4.4.2)\n",
            "Requirement already satisfied: tqdm<5.0,>=4.11.2 in /usr/local/lib/python3.7/dist-packages (from moviepy) (4.64.0)\n",
            "Requirement already satisfied: numpy in /usr/local/lib/python3.7/dist-packages (from moviepy) (1.21.6)\n",
            "Requirement already satisfied: pillow in /usr/local/lib/python3.7/dist-packages (from imageio<3.0,>=2.1.2->moviepy) (7.1.2)\n"
          ]
        }
      ],
      "source": [
        "!pip install ffmpeg moviepy"
      ]
    },
    {
      "cell_type": "code",
      "source": [
        "import math\n",
        "import moviepy.editor as mp\n",
        "from operator import itemgetter"
      ],
      "metadata": {
        "id": "A_FUMMNzbb2T"
      },
      "execution_count": 21,
      "outputs": []
    },
    {
      "cell_type": "code",
      "source": [
        "my_clip = mp.VideoFileClip('drive/MyDrive/dataset/2022-04-11 14_31 Software Design, лекция, ВШЭ3, весна 2022.mp4')\n",
        "\n",
        "audio = my_clip.audio\n",
        "# my_clip.audio.write_audiofile('drive/MyDrive/dataset/audio/2022-04-11 14_31 Software Design, лекция, ВШЭ3, весна 2022.mp3')\n"
      ],
      "metadata": {
        "id": "bTW_nG_4bkcV"
      },
      "execution_count": 22,
      "outputs": []
    },
    {
      "cell_type": "code",
      "source": [
        "def find_speaking(audio_clip, window_size=20, volume_threshold=0.0001):\n",
        "\n",
        "    num_windows = math.floor(audio_clip.end/window_size)\n",
        "\n",
        "    window_is_silent = []\n",
        "    for i in range(num_windows):\n",
        "        s = audio_clip.subclip(i * window_size, (i + 1) * window_size)\n",
        "\n",
        "        v = s.max_volume()\n",
        "        window_is_silent.append(v < volume_threshold)\n",
        "\n",
        "    start = 0\n",
        "    end = 0\n",
        "    speaking_intervals = []\n",
        "    for i in range(1, len(window_is_silent)):\n",
        "        if window_is_silent[i - 1] and not window_is_silent[i]:\n",
        "            start = i * window_size\n",
        "\n",
        "        if not window_is_silent[i - 1] and window_is_silent[i]:\n",
        "            end = i * window_size\n",
        "            new_speaking_interval = [start - 0.25, end + 0.25]\n",
        "\n",
        "            need_to_merge = len(speaking_intervals) > 0 and speaking_intervals[-1][1] > new_speaking_interval[0]\n",
        "            if need_to_merge:\n",
        "                merged_interval = [speaking_intervals[-1][0], new_speaking_interval[1]]\n",
        "                speaking_intervals[-1] = merged_interval\n",
        "            else:\n",
        "                element = (new_speaking_interval, new_speaking_interval[1] - new_speaking_interval[0])\n",
        "                speaking_intervals.append(element)\n",
        "\n",
        "    return speaking_intervals"
      ],
      "metadata": {
        "id": "fqPygx-0d5Yc"
      },
      "execution_count": 28,
      "outputs": []
    },
    {
      "cell_type": "code",
      "source": [
        "def find_longest_speaking_interval(speaking_intervals):    \n",
        "    maximum = max(speaking_intervals, key=itemgetter(1))[0] \n",
        "    return maximum "
      ],
      "metadata": {
        "id": "fL62vJSglA0o"
      },
      "execution_count": 32,
      "outputs": []
    },
    {
      "cell_type": "code",
      "source": [
        "result = find_longest_speaking_interval(find_speaking(audio))\n",
        "print(result[0])\n",
        "print(result[1])"
      ],
      "metadata": {
        "colab": {
          "base_uri": "https://localhost:8080/"
        },
        "id": "cxKT67xseBUy",
        "outputId": "f6e77c3f-416a-46fa-b7e1-98bb77ae8d06"
      },
      "execution_count": 34,
      "outputs": [
        {
          "output_type": "stream",
          "name": "stdout",
          "text": [
            "839.75\n",
            "5580.25\n"
          ]
        }
      ]
    },
    {
      "cell_type": "markdown",
      "source": [
        ""
      ],
      "metadata": {
        "id": "FAycdhn1uG4Z"
      }
    }
  ]
}