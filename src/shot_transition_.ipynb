{
  "nbformat": 4,
  "nbformat_minor": 0,
  "metadata": {
    "colab": {
      "name": "shot_transition .ipynb",
      "provenance": []
    },
    "kernelspec": {
      "name": "python3",
      "display_name": "Python 3"
    },
    "language_info": {
      "name": "python"
    }
  },
  "cells": [
    {
      "cell_type": "code",
      "execution_count": 17,
      "metadata": {
        "colab": {
          "base_uri": "https://localhost:8080/"
        },
        "id": "Td3efvAADMeo",
        "outputId": "cfbe7375-7c87-47bc-d365-4c74022659a5"
      },
      "outputs": [
        {
          "output_type": "stream",
          "name": "stdout",
          "text": [
            "Looking in indexes: https://pypi.org/simple, https://us-python.pkg.dev/colab-wheels/public/simple/\n",
            "Requirement already satisfied: opencv-python in /usr/local/lib/python3.7/dist-packages (4.1.2.30)\n",
            "Requirement already satisfied: numpy>=1.14.5 in /usr/local/lib/python3.7/dist-packages (from opencv-python) (1.21.6)\n",
            "Looking in indexes: https://pypi.org/simple, https://us-python.pkg.dev/colab-wheels/public/simple/\n",
            "Requirement already satisfied: opencv-contrib-python in /usr/local/lib/python3.7/dist-packages (4.1.2.30)\n",
            "Requirement already satisfied: numpy>=1.14.5 in /usr/local/lib/python3.7/dist-packages (from opencv-contrib-python) (1.21.6)\n",
            "Looking in indexes: https://pypi.org/simple, https://us-python.pkg.dev/colab-wheels/public/simple/\n",
            "Collecting ffmpeg\n",
            "  Downloading ffmpeg-1.4.tar.gz (5.1 kB)\n",
            "Requirement already satisfied: moviepy in /usr/local/lib/python3.7/dist-packages (0.2.3.5)\n",
            "Requirement already satisfied: imageio<3.0,>=2.1.2 in /usr/local/lib/python3.7/dist-packages (from moviepy) (2.4.1)\n",
            "Requirement already satisfied: numpy in /usr/local/lib/python3.7/dist-packages (from moviepy) (1.21.6)\n",
            "Requirement already satisfied: decorator<5.0,>=4.0.2 in /usr/local/lib/python3.7/dist-packages (from moviepy) (4.4.2)\n",
            "Requirement already satisfied: tqdm<5.0,>=4.11.2 in /usr/local/lib/python3.7/dist-packages (from moviepy) (4.64.0)\n",
            "Requirement already satisfied: pillow in /usr/local/lib/python3.7/dist-packages (from imageio<3.0,>=2.1.2->moviepy) (7.1.2)\n",
            "Building wheels for collected packages: ffmpeg\n",
            "  Building wheel for ffmpeg (setup.py) ... \u001b[?25l\u001b[?25hdone\n",
            "  Created wheel for ffmpeg: filename=ffmpeg-1.4-py3-none-any.whl size=6084 sha256=21761c5ae904be7f040fd118a2fe403bab61711d4c33203b68b8aa4fa1ddfbd5\n",
            "  Stored in directory: /root/.cache/pip/wheels/64/80/6e/caa3e16deb0267c3cbfd36862058a724144e19fdb9eb03af0f\n",
            "Successfully built ffmpeg\n",
            "Installing collected packages: ffmpeg\n",
            "Successfully installed ffmpeg-1.4\n"
          ]
        }
      ],
      "source": [
        "!pip install opencv-python\n",
        "!pip install opencv-contrib-python\n",
        "\n",
        "!pip install ffmpeg moviepy"
      ]
    },
    {
      "cell_type": "code",
      "source": [
        "import sys\n",
        "import cv2\n",
        "import numpy as np\n",
        "\n",
        "import math\n",
        "import moviepy.editor as mp\n",
        "from operator import itemgetter"
      ],
      "metadata": {
        "id": "tTL374hbmXVY",
        "colab": {
          "base_uri": "https://localhost:8080/"
        },
        "outputId": "c82f5eb9-287c-4c91-91b4-3b53c3aeb359"
      },
      "execution_count": 18,
      "outputs": [
        {
          "output_type": "stream",
          "name": "stdout",
          "text": [
            "Imageio: 'ffmpeg-linux64-v3.3.1' was not found on your computer; downloading it now.\n",
            "Try 1. Download from https://github.com/imageio/imageio-binaries/raw/master/ffmpeg/ffmpeg-linux64-v3.3.1 (43.8 MB)\n",
            "Downloading: 8192/45929032 bytes (0.0%)\b\b\b\b\b\b\b\b\b\b\b\b\b\b\b\b\b\b\b\b\b\b\b\b\b\b3571712/45929032 bytes (7.8%)\b\b\b\b\b\b\b\b\b\b\b\b\b\b\b\b\b\b\b\b\b\b\b\b\b\b\b\b\b7503872/45929032 bytes (16.3%)\b\b\b\b\b\b\b\b\b\b\b\b\b\b\b\b\b\b\b\b\b\b\b\b\b\b\b\b\b\b11173888/45929032 bytes (24.3%)\b\b\b\b\b\b\b\b\b\b\b\b\b\b\b\b\b\b\b\b\b\b\b\b\b\b\b\b\b\b\b14942208/45929032 bytes (32.5%)\b\b\b\b\b\b\b\b\b\b\b\b\b\b\b\b\b\b\b\b\b\b\b\b\b\b\b\b\b\b\b18358272/45929032 bytes (40.0%)\b\b\b\b\b\b\b\b\b\b\b\b\b\b\b\b\b\b\b\b\b\b\b\b\b\b\b\b\b\b\b21233664/45929032 bytes (46.2%)\b\b\b\b\b\b\b\b\b\b\b\b\b\b\b\b\b\b\b\b\b\b\b\b\b\b\b\b\b\b\b24936448/45929032 bytes (54.3%)\b\b\b\b\b\b\b\b\b\b\b\b\b\b\b\b\b\b\b\b\b\b\b\b\b\b\b\b\b\b\b27885568/45929032 bytes (60.7%)\b\b\b\b\b\b\b\b\b\b\b\b\b\b\b\b\b\b\b\b\b\b\b\b\b\b\b\b\b\b\b31358976/45929032 bytes (68.3%)\b\b\b\b\b\b\b\b\b\b\b\b\b\b\b\b\b\b\b\b\b\b\b\b\b\b\b\b\b\b\b34611200/45929032 bytes (75.4%)\b\b\b\b\b\b\b\b\b\b\b\b\b\b\b\b\b\b\b\b\b\b\b\b\b\b\b\b\b\b\b38428672/45929032 bytes (83.7%)\b\b\b\b\b\b\b\b\b\b\b\b\b\b\b\b\b\b\b\b\b\b\b\b\b\b\b\b\b\b\b42205184/45929032 bytes (91.9%)\b\b\b\b\b\b\b\b\b\b\b\b\b\b\b\b\b\b\b\b\b\b\b\b\b\b\b\b\b\b\b45929032/45929032 bytes (100.0%)\n",
            "  Done\n",
            "File saved as /root/.imageio/ffmpeg/ffmpeg-linux64-v3.3.1.\n"
          ]
        }
      ]
    },
    {
      "cell_type": "code",
      "source": [
        "def find_speaking(audio_clip, window_size=20, volume_threshold=0.0001):\n",
        "\n",
        "    num_windows = math.floor(audio_clip.end/window_size)\n",
        "\n",
        "    window_is_silent = []\n",
        "    for i in range(num_windows):\n",
        "        s = audio_clip.subclip(i * window_size, (i + 1) * window_size)\n",
        "\n",
        "        v = s.max_volume()\n",
        "        window_is_silent.append(v < volume_threshold)\n",
        "\n",
        "    start = 0\n",
        "    end = 0\n",
        "    speaking_intervals = []\n",
        "    for i in range(1, len(window_is_silent)):\n",
        "        if window_is_silent[i - 1] and not window_is_silent[i]:\n",
        "            start = i * window_size\n",
        "\n",
        "        if not window_is_silent[i - 1] and window_is_silent[i]:\n",
        "            end = i * window_size\n",
        "            new_speaking_interval = [start - 0.25, end + 0.25]\n",
        "\n",
        "            need_to_merge = len(speaking_intervals) > 0 and speaking_intervals[-1][1] > new_speaking_interval[0]\n",
        "            if need_to_merge:\n",
        "                merged_interval = [speaking_intervals[-1][0], new_speaking_interval[1]]\n",
        "                speaking_intervals[-1] = merged_interval\n",
        "            else:\n",
        "                element = (new_speaking_interval, new_speaking_interval[1] - new_speaking_interval[0])\n",
        "                speaking_intervals.append(element)\n",
        "\n",
        "    return speaking_intervals"
      ],
      "metadata": {
        "id": "GMorTmWDt1y5"
      },
      "execution_count": 19,
      "outputs": []
    },
    {
      "cell_type": "code",
      "source": [
        "def find_longest_speaking_interval(speaking_intervals):    \n",
        "    maximum = max(speaking_intervals, key=itemgetter(1))[0] \n",
        "    return maximum "
      ],
      "metadata": {
        "id": "Grw8coept6SE"
      },
      "execution_count": 20,
      "outputs": []
    },
    {
      "cell_type": "code",
      "source": [
        "clip = mp.VideoFileClip('drive/MyDrive/dataset/2022-04-11 14_31 Software Design, лекция, ВШЭ3, весна 2022.mp4')\n",
        "audio = clip.audio"
      ],
      "metadata": {
        "id": "hHQUvTJKu34q"
      },
      "execution_count": 21,
      "outputs": []
    },
    {
      "cell_type": "code",
      "source": [
        "result = find_longest_speaking_interval(find_speaking(audio))"
      ],
      "metadata": {
        "id": "QCDKJ83Cuxv6"
      },
      "execution_count": 22,
      "outputs": []
    },
    {
      "cell_type": "code",
      "source": [
        "def find_shot_transition(cap):\n",
        "    width = cap.get(cv2.CAP_PROP_FRAME_WIDTH)\n",
        "    height = cap.get(cv2.CAP_PROP_FRAME_HEIGHT)\n",
        "    threshold = 125\n",
        "\n",
        "    last_mean = 0 \n",
        "    start_time = cv2.getTickCount()\n",
        "    shot_timecodes = []\n",
        "\n",
        "    while True:\n",
        "        (rv, im) = cap.read()\n",
        "        if not rv:\n",
        "            break\n",
        "\n",
        "        frame_mean = np.sum(im) / float(im.shape[0] * im.shape[1] * im.shape[2])\n",
        "\n",
        "        if cap.get(cv2.CAP_PROP_POS_MSEC) / 1000.0 >= result[0]:\n",
        "            break\n",
        "\n",
        "        if frame_mean >= threshold and last_mean < threshold:\n",
        "            shot_timecodes.append(cap.get(cv2.CAP_PROP_POS_MSEC) / 1000.0)\n",
        "\n",
        "        elif frame_mean < threshold and last_mean >= threshold:\n",
        "            shot_timecodes.append(cap.get(cv2.CAP_PROP_POS_MSEC) / 1000.0)\n",
        "\n",
        "        last_mean = frame_mean\n",
        "    \n",
        "    return shot_timecodes\n"
      ],
      "metadata": {
        "id": "PX8JvqOJsPxm"
      },
      "execution_count": 27,
      "outputs": []
    },
    {
      "cell_type": "code",
      "source": [
        "clip = mp.VideoFileClip('drive/MyDrive/dataset/2022-04-11 14_31 Software Design, лекция, ВШЭ3, весна 2022.mp4')\n",
        "audio = clip.audio\n",
        "\n",
        "cap = cv2.VideoCapture('drive/MyDrive/dataset/2022-04-11 14_31 Software Design, лекция, ВШЭ3, весна 2022.mp4')"
      ],
      "metadata": {
        "id": "DLPFJf-3l9pv"
      },
      "execution_count": 28,
      "outputs": []
    },
    {
      "cell_type": "code",
      "source": [
        "print(find_shot_transition(cap))\n",
        "cap.release()"
      ],
      "metadata": {
        "colab": {
          "base_uri": "https://localhost:8080/"
        },
        "id": "tRUuRofBstlw",
        "outputId": "a3b775d5-5f37-4457-9521-405e5febd0f0"
      },
      "execution_count": 29,
      "outputs": [
        {
          "output_type": "stream",
          "name": "stdout",
          "text": [
            "[31.8, 33.64, 33.88, 34.440000000000005, 35.64, 36.4, 580.32]\n"
          ]
        }
      ]
    }
  ]
}