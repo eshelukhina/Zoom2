{
  "nbformat": 4,
  "nbformat_minor": 0,
  "metadata": {
    "colab": {
      "name": "results_sound.ipynb",
      "provenance": []
    },
    "kernelspec": {
      "name": "python3",
      "display_name": "Python 3"
    },
    "language_info": {
      "name": "python"
    }
  },
  "cells": [
    {
      "cell_type": "code",
      "execution_count": 1,
      "metadata": {
        "colab": {
          "base_uri": "https://localhost:8080/"
        },
        "id": "6YdigNdtfmvL",
        "outputId": "eb5d0501-9f99-46a4-c993-eedc6d706bab"
      },
      "outputs": [
        {
          "output_type": "stream",
          "name": "stdout",
          "text": [
            "Looking in indexes: https://pypi.org/simple, https://us-python.pkg.dev/colab-wheels/public/simple/\n",
            "Collecting ffmpeg\n",
            "  Downloading ffmpeg-1.4.tar.gz (5.1 kB)\n",
            "Requirement already satisfied: moviepy in /usr/local/lib/python3.7/dist-packages (0.2.3.5)\n",
            "Requirement already satisfied: tqdm<5.0,>=4.11.2 in /usr/local/lib/python3.7/dist-packages (from moviepy) (4.64.0)\n",
            "Requirement already satisfied: numpy in /usr/local/lib/python3.7/dist-packages (from moviepy) (1.21.6)\n",
            "Requirement already satisfied: decorator<5.0,>=4.0.2 in /usr/local/lib/python3.7/dist-packages (from moviepy) (4.4.2)\n",
            "Requirement already satisfied: imageio<3.0,>=2.1.2 in /usr/local/lib/python3.7/dist-packages (from moviepy) (2.4.1)\n",
            "Requirement already satisfied: pillow in /usr/local/lib/python3.7/dist-packages (from imageio<3.0,>=2.1.2->moviepy) (7.1.2)\n",
            "Building wheels for collected packages: ffmpeg\n",
            "  Building wheel for ffmpeg (setup.py) ... \u001b[?25l\u001b[?25hdone\n",
            "  Created wheel for ffmpeg: filename=ffmpeg-1.4-py3-none-any.whl size=6084 sha256=7fd1cdef6652298f1eec0fd66208a478eb1e0f08c4c5c3b5fbd32b7a03804a95\n",
            "  Stored in directory: /root/.cache/pip/wheels/64/80/6e/caa3e16deb0267c3cbfd36862058a724144e19fdb9eb03af0f\n",
            "Successfully built ffmpeg\n",
            "Installing collected packages: ffmpeg\n",
            "Successfully installed ffmpeg-1.4\n"
          ]
        }
      ],
      "source": [
        "!pip install ffmpeg moviepy"
      ]
    },
    {
      "cell_type": "code",
      "source": [
        "import sys\n",
        "import numpy as np\n",
        "\n",
        "import math\n",
        "import moviepy.editor as mp\n",
        "from operator import itemgetter"
      ],
      "metadata": {
        "colab": {
          "base_uri": "https://localhost:8080/"
        },
        "id": "fOQA9YFYf6kp",
        "outputId": "f3909537-8f49-4430-8394-c445422aa883"
      },
      "execution_count": 2,
      "outputs": [
        {
          "output_type": "stream",
          "name": "stdout",
          "text": [
            "Imageio: 'ffmpeg-linux64-v3.3.1' was not found on your computer; downloading it now.\n",
            "Try 1. Download from https://github.com/imageio/imageio-binaries/raw/master/ffmpeg/ffmpeg-linux64-v3.3.1 (43.8 MB)\n",
            "Downloading: 8192/45929032 bytes (0.0%)\b\b\b\b\b\b\b\b\b\b\b\b\b\b\b\b\b\b\b\b\b\b\b\b\b\b2768896/45929032 bytes (6.0%)\b\b\b\b\b\b\b\b\b\b\b\b\b\b\b\b\b\b\b\b\b\b\b\b\b\b\b\b\b6062080/45929032 bytes (13.2%)\b\b\b\b\b\b\b\b\b\b\b\b\b\b\b\b\b\b\b\b\b\b\b\b\b\b\b\b\b\b9216000/45929032 bytes (20.1%)\b\b\b\b\b\b\b\b\b\b\b\b\b\b\b\b\b\b\b\b\b\b\b\b\b\b\b\b\b\b12615680/45929032 bytes (27.5%)\b\b\b\b\b\b\b\b\b\b\b\b\b\b\b\b\b\b\b\b\b\b\b\b\b\b\b\b\b\b\b15908864/45929032 bytes (34.6%)\b\b\b\b\b\b\b\b\b\b\b\b\b\b\b\b\b\b\b\b\b\b\b\b\b\b\b\b\b\b\b18956288/45929032 bytes (41.3%)\b\b\b\b\b\b\b\b\b\b\b\b\b\b\b\b\b\b\b\b\b\b\b\b\b\b\b\b\b\b\b22126592/45929032 bytes (48.2%)\b\b\b\b\b\b\b\b\b\b\b\b\b\b\b\b\b\b\b\b\b\b\b\b\b\b\b\b\b\b\b24838144/45929032 bytes (54.1%)\b\b\b\b\b\b\b\b\b\b\b\b\b\b\b\b\b\b\b\b\b\b\b\b\b\b\b\b\b\b\b27656192/45929032 bytes (60.2%)\b\b\b\b\b\b\b\b\b\b\b\b\b\b\b\b\b\b\b\b\b\b\b\b\b\b\b\b\b\b\b30900224/45929032 bytes (67.3%)\b\b\b\b\b\b\b\b\b\b\b\b\b\b\b\b\b\b\b\b\b\b\b\b\b\b\b\b\b\b\b34144256/45929032 bytes (74.3%)\b\b\b\b\b\b\b\b\b\b\b\b\b\b\b\b\b\b\b\b\b\b\b\b\b\b\b\b\b\b\b37429248/45929032 bytes (81.5%)\b\b\b\b\b\b\b\b\b\b\b\b\b\b\b\b\b\b\b\b\b\b\b\b\b\b\b\b\b\b\b40763392/45929032 bytes (88.8%)\b\b\b\b\b\b\b\b\b\b\b\b\b\b\b\b\b\b\b\b\b\b\b\b\b\b\b\b\b\b\b44023808/45929032 bytes (95.9%)\b\b\b\b\b\b\b\b\b\b\b\b\b\b\b\b\b\b\b\b\b\b\b\b\b\b\b\b\b\b\b45929032/45929032 bytes (100.0%)\n",
            "  Done\n",
            "File saved as /root/.imageio/ffmpeg/ffmpeg-linux64-v3.3.1.\n"
          ]
        }
      ]
    },
    {
      "cell_type": "code",
      "source": [
        "def find_speaking(audio_clip, window_size=15, volume_threshold=0.3):\n",
        "\n",
        "    num_windows = math.floor(audio_clip.end/window_size)\n",
        "\n",
        "    window_is_silent = []\n",
        "    for i in range(num_windows):\n",
        "        s = audio_clip.subclip(i * window_size, (i + 1) * window_size)\n",
        "        v = s.max_volume()\n",
        "        window_is_silent.append(v < volume_threshold)\n",
        "\n",
        "    start = 0\n",
        "    end = 0\n",
        "    speaking_intervals = []\n",
        "    for i in range(1, len(window_is_silent)):\n",
        "        if window_is_silent[i - 1] and not window_is_silent[i]:\n",
        "            start = i * window_size\n",
        "\n",
        "        if not window_is_silent[i - 1] and window_is_silent[i]:\n",
        "            end = i * window_size\n",
        "            new_speaking_interval = [start - 0.25, end + 0.25]\n",
        "            need_to_merge = len(speaking_intervals) > 0 and new_speaking_interval[0] - 60 <= speaking_intervals[-1][0][1]\n",
        "            if need_to_merge:\n",
        "                merged_interval = [speaking_intervals[-1][0][0], new_speaking_interval[1]]\n",
        "                speaking_intervals[-1] = (merged_interval, new_speaking_interval[1] - speaking_intervals[-1][0][0])\n",
        "            else:\n",
        "                element = (new_speaking_interval, new_speaking_interval[1] - new_speaking_interval[0])\n",
        "                speaking_intervals.append(element)\n",
        "    if len(speaking_intervals) != 0:\n",
        "        return speaking_intervals\n",
        "    else:\n",
        "        return [([0, audio_clip.duration], audio_clip.duration)]"
      ],
      "metadata": {
        "id": "8KssEx3TfxME"
      },
      "execution_count": 7,
      "outputs": []
    },
    {
      "cell_type": "code",
      "source": [
        "def find_longest_speaking_interval(speaking_intervals): \n",
        "    if len(speaking_intervals) > 0:\n",
        "        maximum = max(speaking_intervals, key=itemgetter(1))[0] \n",
        "        return (maximum[0], maximum[1])\n",
        "    else: \n",
        "        raise ValueError(\"EMPTY SPEAKING INTERVALS\")"
      ],
      "metadata": {
        "id": "Y_7WWgr5f0Eg"
      },
      "execution_count": 8,
      "outputs": []
    },
    {
      "cell_type": "code",
      "source": [
        "def get_sec_hours(time_str):\n",
        "    \"\"\"Get seconds from time.\"\"\"\n",
        "    h, m, s = time_str.split(':')\n",
        "    return int(h) * 3600 + int(m) * 60 + int(s)\n",
        "\n",
        "def get_sec_minutes(time_str):\n",
        "    \"\"\"Get seconds from time.\"\"\"\n",
        "    m, s = time_str.split(':')\n",
        "    return int(m) * 60 + int(s)\n",
        "\n",
        "def get_seconds(str_time):\n",
        "    if len(str_time.split(':')) == 2:\n",
        "        return get_sec_minutes(str_time)\n",
        "    elif len(str_time.split(':')) == 3:\n",
        "        return get_sec_hours(str_time)\n",
        "    else:\n",
        "        return int(str_time)"
      ],
      "metadata": {
        "id": "QkzHR_-djV0a"
      },
      "execution_count": 9,
      "outputs": []
    },
    {
      "cell_type": "code",
      "source": [
        "import pandas as pd\n",
        "import datetime\n",
        "df = pd.read_csv('dataset.csv', sep=';',header=None)\n",
        "\n",
        "names = []\n",
        "begin = []\n",
        "end = []\n",
        "correct_start = []\n",
        "correct_end = []\n",
        "\n",
        "print('=======================================')\n",
        "for i in range(len(df)):\n",
        "    video_name = 'drive/MyDrive/dataset/' + df.values[i][0]\n",
        "\n",
        "    print(df.values[i][0])\n",
        "    names.append(df.values[i][0])\n",
        "\n",
        "    print(\"Correct Answer: \", get_seconds(df.values[i][1]), \" - \", get_seconds(df.values[i][2]))\n",
        "    correct_start.append(get_seconds(df.values[i][1]))\n",
        "    correct_end.append(get_seconds(df.values[i][2]))\n",
        "\n",
        "    clip = mp.VideoFileClip(video_name)\n",
        "    audio = clip.audio\n",
        "\n",
        "    a = find_speaking(audio)\n",
        "       \n",
        "    t1, t2 = find_longest_speaking_interval(a)\n",
        "\n",
        "    begin.append(t1)\n",
        "    end.append(t2)\n",
        "    print(\"Sound Answer: \", t1, \" - \", t2)\n",
        "    print('=======================================')"
      ],
      "metadata": {
        "colab": {
          "base_uri": "https://localhost:8080/",
          "height": 1000
        },
        "id": "NZt_9nJVf34-",
        "outputId": "42c1921a-a611-46af-a702-721961959978"
      },
      "execution_count": 11,
      "outputs": [
        {
          "output_type": "stream",
          "name": "stdout",
          "text": [
            "=======================================\n",
            "2022-03-01 16_12 Параллельное программирование, 3ВШЭ, весна 2022.mp4\n",
            "Correct Answer:  900  -  9844\n",
            "Sound Answer:  869.75  -  9060.25\n",
            "=======================================\n",
            "2022-04-19 16_55 ПМИ3 Высокопроизводительные вычисления.mp4\n",
            "Correct Answer:  2190  -  8410\n",
            "Sound Answer:  2159.75  -  5835.25\n",
            "=======================================\n",
            "2022-05-16 19_29 ПМИ3 Высокопроизводительные вычисления.mp4\n",
            "Correct Answer:  275  -  3885\n",
            "Sound Answer:  164.75  -  180.25\n",
            "=======================================\n",
            "2022-03-14 14_31 Software Design, лекция, ВШЭ3, весна 2022.mp4\n",
            "Correct Answer:  550  -  5395\n",
            "Sound Answer:  509.75  -  5385.25\n",
            "=======================================\n",
            "2022-03-21 14_37 Software Design, лекция, ВШЭ3, весна 2022.mp4\n",
            "Correct Answer:  270  -  5095\n",
            "Sound Answer:  224.75  -  5115.25\n",
            "=======================================\n",
            "2022-04-11 14_31 Software Design, лекция, ВШЭ3, весна 2022.mp4\n",
            "Correct Answer:  845  -  5560\n",
            "Sound Answer:  839.75  -  5565.25\n",
            "=======================================\n",
            "2022-04-18 14_36 Software Design, лекция, ВШЭ3, весна 2022.mp4\n",
            "Correct Answer:  345  -  5400\n",
            "Sound Answer:  344.75  -  3675.25\n",
            "=======================================\n",
            "2022-04-25 14_38 Software Design, лекция, ВШЭ3, весна 2022.mp4\n",
            "Correct Answer:  500  -  7800\n",
            "Sound Answer:  494.75  -  5430.25\n",
            "=======================================\n",
            "2022-05-16 14_33 Software Design, лекция, ВШЭ3, весна 2022.mp4\n",
            "Correct Answer:  600  -  5350\n",
            "Sound Answer:  554.75  -  5355.25\n",
            "=======================================\n",
            "2022-05-23 14_36 Software Design, лекция, ВШЭ3, весна 2022.mp4\n",
            "Correct Answer:  700  -  6390\n",
            "Sound Answer:  314.75  -  4425.25\n",
            "=======================================\n",
            "2022-05-30 14_32 Software Design, лекция, ВШЭ3, весна 2022.mp4\n",
            "Correct Answer:  1032  -  5120\n",
            "Sound Answer:  584.75  -  615.25\n",
            "=======================================\n",
            "2022-05-30 16_09 Software Design, лекция, ВШЭ3, весна 2022.mp4\n",
            "Correct Answer:  540  -  3830\n",
            "Sound Answer:  479.75  -  3450.25\n",
            "=======================================\n",
            "2022-03-11 13_04 ВШЭ Алгоритмы и структуры данных (пр.з.), (А. Олемская) ПМИ 1 курс.mp4\n",
            "Correct Answer:  1475  -  6396\n",
            "Sound Answer:  1379.75  -  6510.25\n",
            "=======================================\n",
            "2022-03-11 13_21 ВШЭ Алгоритмы и структуры данных (пр.з.), (А. Буков) ПМИ 1 курс.mp4\n",
            "Correct Answer:  320  -  5025\n",
            "Sound Answer:  104.75  -  4995.25\n",
            "=======================================\n",
            "2022-03-18 13_17 ПМИ1, Алгоритмы и структуры данных (пр.з., А. Олемская), весна 2022.mp4\n",
            "Correct Answer:  250  -  5700\n",
            "Sound Answer:  3389.75  -  5685.25\n",
            "=======================================\n",
            "2022-05-11 09_59 Алгоритмы (лек) ПМИ1.mp4\n",
            "Correct Answer:  325  -  6840\n",
            "Sound Answer:  239.75  -  6840.25\n",
            "=======================================\n",
            "2022-05-15 13_17 ПМИ1, Алгоритмы и структуры данных (пр.з., С. Кузьмин), весна 2022.mp4\n",
            "Correct Answer:  200  -  6420\n",
            "Sound Answer:  5114.75  -  5595.25\n",
            "=======================================\n",
            "2022-05-18 10_04 Алгоритмы (лек) ПМИ1.mp4\n",
            "Correct Answer:  75  -  6540\n",
            "Sound Answer:  29.75  -  6540.25\n",
            "=======================================\n",
            "2022-05-25 10_14 Алгоритмы (лек) ПМИ1.mp4\n",
            "Correct Answer:  35  -  6320\n",
            "Sound Answer:  59.75  -  360.25\n",
            "=======================================\n",
            "2022-03-14 10_23 Язык программирования Java (лекция, А.М. Кузнецов), ВШЭ2, весна 2022.mp4\n",
            "Correct Answer:  840  -  7485\n",
            "Sound Answer:  6659.75  -  7500.25\n",
            "=======================================\n",
            "2022-03-21 10_23 Язык программирования Java (лекция, А.М. Кузнецов), ВШЭ2, весна 2022.mp4\n",
            "Correct Answer:  638  -  6300\n",
            "Sound Answer:  164.75  -  6270.25\n",
            "=======================================\n",
            "2022-03-21 12_59 Язык программирования Java (практика, Э.А. Жаворонков), ВШЭ3, весна 2022.mp4\n",
            "Correct Answer:  1280  -  6180\n",
            "Sound Answer:  1274.75  -  3390.25\n",
            "=======================================\n",
            "2022-04-11 10_25 Язык программирования Java (лекция, А.М. Кузнецов), ВШЭ2, весна 2022.mp4\n",
            "Correct Answer:  505  -  6245\n",
            "Sound Answer:  3719.75  -  4515.25\n",
            "=======================================\n",
            "2022-04-11 12_54 Язык программирования Java (практика, Э.А. Жаворонков), ВШЭ3, весна 2022.mp4\n",
            "Correct Answer:  610  -  5975\n",
            "Sound Answer:  569.75  -  4275.25\n",
            "=======================================\n",
            "2022-04-18 11_46 Язык программирования Java (лекция, А.М. Кузнецов), ВШЭ2, весна 2022.mp4\n",
            "Correct Answer:  360  -  3180\n",
            "Sound Answer:  254.75  -  630.25\n",
            "=======================================\n",
            "2022-04-18 12_52 Язык программирования Java (практика, Э.А. Жаворонков), ВШЭ3, весна 2022.mp4\n",
            "Correct Answer:  600  -  5275\n",
            "Sound Answer:  2114.75  -  5280.25\n",
            "=======================================\n",
            "2022-04-25 10_28 Язык программирования Java (лекция, А.М. Кузнецов), ВШЭ2, весна 2022.mp4\n",
            "Correct Answer:  290  -  7310\n",
            "Sound Answer:  1364.75  -  2850.25\n",
            "=======================================\n",
            "2022-04-25 12_59 Язык программирования Java (практика, Э.А. Жаворонков), ВШЭ3, весна 2022.mp4\n",
            "Correct Answer:  570  -  5525\n",
            "Sound Answer:  329.75  -  4335.25\n",
            "=======================================\n",
            "2022-05-16 10_26 Язык программирования Java (лекция, А.М. Кузнецов), ВШЭ2, весна 2022.mp4\n",
            "Correct Answer:  3115  -  7763\n",
            "Sound Answer:  4244.75  -  5205.25\n",
            "=======================================\n",
            "2022-05-23 12_20 Язык программирования Java (лекция, А.М. Кузнецов), ВШЭ2, весна 2022.mp4\n",
            "Correct Answer:  3290  -  4455\n",
            "Sound Answer:  3269.75  -  4335.25\n",
            "=======================================\n",
            "2022-05-30 12_41 Язык программирования Java (лекция, А.М. Кузнецов), ВШЭ2, весна 2022.mp4\n",
            "Correct Answer:  715  -  6555\n",
            "Sound Answer:  134.75  -  6465.25\n",
            "=======================================\n",
            "2022-06-06 10_30 Язык программирования Java (практика, Э.А. Жаворонков), ВШЭ3, весна 2022.mp4\n",
            "Correct Answer:  70  -  6300\n",
            "Sound Answer:  2879.75  -  6090.25\n",
            "=======================================\n",
            "2022-06-10 10_27 Java ВШЭ2. Консультация.mp4\n",
            "Correct Answer:  330  -  2860\n",
            "Sound Answer:  1154.75  -  2610.25\n",
            "=======================================\n",
            "2021-12-18 14_53 ВШЭ Консультация С++ ПМИ 1 курс .mp4\n",
            "Correct Answer:  725  -  11790\n",
            "Sound Answer:  599.75  -  11745.25\n",
            "=======================================\n",
            "2022-01-10 11_01 ВШЭ С++ лекция ПМИ 1 курс.mp4\n",
            "Correct Answer:  645  -  5680\n",
            "Sound Answer:  419.75  -  525.25\n",
            "=======================================\n",
            "2022-05-19 16_23 Лекция С++ ПМИ1.mp4\n",
            "Correct Answer:  650  -  5515\n",
            "Sound Answer:  3509.75  -  3960.25\n",
            "=======================================\n",
            "2022-03-16 11_33 Компилятор Котлин, ИТМО + ВШЭ, весна 2022.mp4\n",
            "Correct Answer:  480  -  6295\n",
            "Sound Answer:  1514.75  -  6270.25\n",
            "=======================================\n",
            "2022-04-06 11_28 Компилятор Котлин, ИТМО + ВШЭ, весна 2022.mp4\n",
            "Correct Answer:  780  -  7342\n",
            "Sound Answer:  134.75  -  5205.25\n",
            "=======================================\n",
            "2022-04-13 11_20 Компилятор Котлин, ИТМО + ВШЭ, весна 2022.mp4\n",
            "Correct Answer:  1530  -  7975\n",
            "Sound Answer:  1094.75  -  7830.25\n",
            "=======================================\n",
            "2022-04-21 10_28 Компилятор Котлин, ИТМО + ВШЭ, весна 2022.mp4\n",
            "Correct Answer:  480  -  10086\n",
            "Sound Answer:  59.75  -  6795.25\n",
            "=======================================\n",
            "2022-04-27 11_26 Компилятор Котлин, ИТМО + ВШЭ, весна 2022.mp4\n",
            "Correct Answer:  845  -  7910\n",
            "Sound Answer:  569.75  -  6600.25\n",
            "=======================================\n",
            "2022-05-04 11_31 Компилятор Котлин, ИТМО + ВШЭ, весна 2022.mp4\n",
            "Correct Answer:  215  -  5760\n",
            "Sound Answer:  209.75  -  5760.25\n",
            "=======================================\n",
            "2022-05-11 11_30 Компилятор Котлин, ИТМО + ВШЭ, весна 2022.mp4\n",
            "Correct Answer:  620  -  6805\n",
            "Sound Answer:  584.75  -  6750.25\n",
            "=======================================\n",
            "2022-03-04 14_59 Мобильная разработка, ВШЭ + ИТМО, весна 2022.mp4\n",
            "Correct Answer:  140  -  3066\n",
            "Sound Answer:  74.75  -  135.25\n",
            "=======================================\n",
            "2022-03-11 14_58 Мобильная разработка, ВШЭ + ИТМО, весна 2022.mp4\n",
            "Correct Answer:  132  -  5025\n",
            "Sound Answer:  134.75  -  2895.25\n",
            "=======================================\n",
            "2022-03-18 14_59 Мобильная разработка, ВШЭ + ИТМО, весна 2022.mp4\n",
            "Correct Answer:  160  -  3030\n",
            "Sound Answer:  74.75  -  2655.25\n",
            "=======================================\n",
            "2022-04-01 14_59 Мобильная разработка, ВШЭ + ИТМО, весна 2022.mp4\n",
            "Correct Answer:  33  -  4380\n",
            "Sound Answer:  614.75  -  1335.25\n",
            "=======================================\n",
            "2022-03-09 12_55 NLP, ВШЭ, весна 2022.mp4\n",
            "Correct Answer:  385  -  5902\n",
            "Sound Answer:  194.75  -  5895.25\n",
            "=======================================\n",
            "2022-03-16 12_58 NLP, ВШЭ, весна 2022.mp4\n",
            "Correct Answer:  330  -  6272\n",
            "Sound Answer:  224.75  -  5325.25\n",
            "=======================================\n",
            "2022-01-11 16_08 ВШЭ Дискретная математика (практика) (А. Буков) ПМИ 2 курс.mp4\n",
            "Correct Answer:  610  -  6100\n",
            "Sound Answer:  3794.75  -  5625.25\n",
            "=======================================\n"
          ]
        },
        {
          "output_type": "error",
          "ename": "TypeError",
          "evalue": "ignored",
          "traceback": [
            "\u001b[0;31m---------------------------------------------------------------------------\u001b[0m",
            "\u001b[0;31mTypeError\u001b[0m                                 Traceback (most recent call last)",
            "\u001b[0;32m/usr/local/lib/python3.7/dist-packages/numpy/lib/npyio.py\u001b[0m in \u001b[0;36msavetxt\u001b[0;34m(fname, X, fmt, delimiter, newline, header, footer, comments, encoding)\u001b[0m\n\u001b[1;32m   1434\u001b[0m                 \u001b[0;32mtry\u001b[0m\u001b[0;34m:\u001b[0m\u001b[0;34m\u001b[0m\u001b[0;34m\u001b[0m\u001b[0m\n\u001b[0;32m-> 1435\u001b[0;31m                     \u001b[0mv\u001b[0m \u001b[0;34m=\u001b[0m \u001b[0mformat\u001b[0m \u001b[0;34m%\u001b[0m \u001b[0mtuple\u001b[0m\u001b[0;34m(\u001b[0m\u001b[0mrow\u001b[0m\u001b[0;34m)\u001b[0m \u001b[0;34m+\u001b[0m \u001b[0mnewline\u001b[0m\u001b[0;34m\u001b[0m\u001b[0;34m\u001b[0m\u001b[0m\n\u001b[0m\u001b[1;32m   1436\u001b[0m                 \u001b[0;32mexcept\u001b[0m \u001b[0mTypeError\u001b[0m \u001b[0;32mas\u001b[0m \u001b[0me\u001b[0m\u001b[0;34m:\u001b[0m\u001b[0;34m\u001b[0m\u001b[0;34m\u001b[0m\u001b[0m\n",
            "\u001b[0;31mTypeError\u001b[0m: must be real number, not numpy.str_",
            "\nThe above exception was the direct cause of the following exception:\n",
            "\u001b[0;31mTypeError\u001b[0m                                 Traceback (most recent call last)",
            "\u001b[0;32m<ipython-input-11-7d42ac63a2d4>\u001b[0m in \u001b[0;36m<module>\u001b[0;34m()\u001b[0m\n\u001b[1;32m     33\u001b[0m \u001b[0;34m\u001b[0m\u001b[0m\n\u001b[1;32m     34\u001b[0m \u001b[0mresult_data\u001b[0m \u001b[0;34m=\u001b[0m \u001b[0mnp\u001b[0m\u001b[0;34m.\u001b[0m\u001b[0masarray\u001b[0m\u001b[0;34m(\u001b[0m\u001b[0;34m[\u001b[0m\u001b[0mnames\u001b[0m\u001b[0;34m,\u001b[0m \u001b[0mcorrect_start\u001b[0m\u001b[0;34m,\u001b[0m \u001b[0mcorrect_end\u001b[0m\u001b[0;34m,\u001b[0m \u001b[0mbegin\u001b[0m\u001b[0;34m,\u001b[0m \u001b[0mend\u001b[0m\u001b[0;34m]\u001b[0m\u001b[0;34m)\u001b[0m\u001b[0;34m\u001b[0m\u001b[0;34m\u001b[0m\u001b[0m\n\u001b[0;32m---> 35\u001b[0;31m \u001b[0mnp\u001b[0m\u001b[0;34m.\u001b[0m\u001b[0msavetxt\u001b[0m\u001b[0;34m(\u001b[0m\u001b[0;34m\"sound_results.csv\"\u001b[0m\u001b[0;34m,\u001b[0m \u001b[0mresult_data\u001b[0m\u001b[0;34m,\u001b[0m \u001b[0mdelimiter\u001b[0m\u001b[0;34m=\u001b[0m\u001b[0;34m\";\"\u001b[0m\u001b[0;34m)\u001b[0m\u001b[0;34m\u001b[0m\u001b[0;34m\u001b[0m\u001b[0m\n\u001b[0m",
            "\u001b[0;32m<__array_function__ internals>\u001b[0m in \u001b[0;36msavetxt\u001b[0;34m(*args, **kwargs)\u001b[0m\n",
            "\u001b[0;32m/usr/local/lib/python3.7/dist-packages/numpy/lib/npyio.py\u001b[0m in \u001b[0;36msavetxt\u001b[0;34m(fname, X, fmt, delimiter, newline, header, footer, comments, encoding)\u001b[0m\n\u001b[1;32m   1437\u001b[0m                     raise TypeError(\"Mismatch between array dtype ('%s') and \"\n\u001b[1;32m   1438\u001b[0m                                     \u001b[0;34m\"format specifier ('%s')\"\u001b[0m\u001b[0;34m\u001b[0m\u001b[0;34m\u001b[0m\u001b[0m\n\u001b[0;32m-> 1439\u001b[0;31m                                     % (str(X.dtype), format)) from e\n\u001b[0m\u001b[1;32m   1440\u001b[0m                 \u001b[0mfh\u001b[0m\u001b[0;34m.\u001b[0m\u001b[0mwrite\u001b[0m\u001b[0;34m(\u001b[0m\u001b[0mv\u001b[0m\u001b[0;34m)\u001b[0m\u001b[0;34m\u001b[0m\u001b[0;34m\u001b[0m\u001b[0m\n\u001b[1;32m   1441\u001b[0m \u001b[0;34m\u001b[0m\u001b[0m\n",
            "\u001b[0;31mTypeError\u001b[0m: Mismatch between array dtype ('<U93') and format specifier ('%.18e;%.18e;%.18e;%.18e;%.18e;%.18e;%.18e;%.18e;%.18e;%.18e;%.18e;%.18e;%.18e;%.18e;%.18e;%.18e;%.18e;%.18e;%.18e;%.18e;%.18e;%.18e;%.18e;%.18e;%.18e;%.18e;%.18e;%.18e;%.18e;%.18e;%.18e;%.18e;%.18e;%.18e;%.18e;%.18e;%.18e;%.18e;%.18e;%.18e;%.18e;%.18e;%.18e;%.18e;%.18e;%.18e;%.18e;%.18e;%.18e;%.18e')"
          ]
        }
      ]
    },
    {
      "cell_type": "code",
      "source": [
        "print(begin)\n",
        "print(end)"
      ],
      "metadata": {
        "colab": {
          "base_uri": "https://localhost:8080/"
        },
        "id": "GIMm7V4Ys-vi",
        "outputId": "4a595818-9ee9-4b85-bbf0-694200742e3d"
      },
      "execution_count": 12,
      "outputs": [
        {
          "output_type": "stream",
          "name": "stdout",
          "text": [
            "[869.75, 2159.75, 164.75, 509.75, 224.75, 839.75, 344.75, 494.75, 554.75, 314.75, 584.75, 479.75, 1379.75, 104.75, 3389.75, 239.75, 5114.75, 29.75, 59.75, 6659.75, 164.75, 1274.75, 3719.75, 569.75, 254.75, 2114.75, 1364.75, 329.75, 4244.75, 3269.75, 134.75, 2879.75, 1154.75, 599.75, 419.75, 3509.75, 1514.75, 134.75, 1094.75, 59.75, 569.75, 209.75, 584.75, 74.75, 134.75, 74.75, 614.75, 194.75, 224.75, 3794.75]\n",
            "[9060.25, 5835.25, 180.25, 5385.25, 5115.25, 5565.25, 3675.25, 5430.25, 5355.25, 4425.25, 615.25, 3450.25, 6510.25, 4995.25, 5685.25, 6840.25, 5595.25, 6540.25, 360.25, 7500.25, 6270.25, 3390.25, 4515.25, 4275.25, 630.25, 5280.25, 2850.25, 4335.25, 5205.25, 4335.25, 6465.25, 6090.25, 2610.25, 11745.25, 525.25, 3960.25, 6270.25, 5205.25, 7830.25, 6795.25, 6600.25, 5760.25, 6750.25, 135.25, 2895.25, 2655.25, 1335.25, 5895.25, 5325.25, 5625.25]\n"
          ]
        }
      ]
    },
    {
      "cell_type": "code",
      "source": [
        "result_data = np.array([correct_start, correct_end, begin, end])\n",
        "result_data_transpose = result_data.transpose()\n",
        "np.savetxt(\"sound_results.csv\", result_data_transpose, fmt=\"%d\", delimiter=\";\")"
      ],
      "metadata": {
        "id": "xWm-SWwNt34g"
      },
      "execution_count": 15,
      "outputs": []
    },
    {
      "cell_type": "code",
      "source": [
        "diff = pd.read_csv('sound_results.csv', sep=';',header=None)\n",
        "diff_start = []\n",
        "start_level = []\n",
        "diff_end = []\n",
        "end_level = []\n",
        "for i in range(len(diff)):\n",
        "    start_level.append(1)\n",
        "    diff_start.append(abs(int(diff.values[i][0]) - int(diff.values[i][2])))\n",
        "    end_level.append(2)\n",
        "    diff_end.append(abs(int(diff.values[i][1]) - int(diff.values[i][3])))"
      ],
      "metadata": {
        "id": "Ttk3c77bvacm"
      },
      "execution_count": 16,
      "outputs": []
    },
    {
      "cell_type": "code",
      "source": [
        "import matplotlib.pyplot as plt\n",
        "  \n",
        "plt.scatter(diff_start, start_level, label= \"start\", color= \"blue\", \n",
        "            marker= \"*\")\n",
        "\n",
        "plt.scatter(diff_end, end_level, label= \"end\", color= \"red\", \n",
        "            marker= \"*\")\n",
        "  \n",
        "plt.xlabel('diff')\n",
        "plt.title('Sound diff')\n",
        "plt.legend()\n",
        "plt.show()"
      ],
      "metadata": {
        "colab": {
          "base_uri": "https://localhost:8080/",
          "height": 295
        },
        "id": "RnJd0gPWurTa",
        "outputId": "a9c27bab-d9a2-49ad-a911-df85b901d67e"
      },
      "execution_count": 21,
      "outputs": [
        {
          "output_type": "display_data",
          "data": {
            "text/plain": [
              "<Figure size 432x288 with 1 Axes>"
            ],
            "image/png": "[encoded data removed]"
          },
          "metadata": {
            "needs_background": "light"
          }
        }
      ]
    }
  ]
}